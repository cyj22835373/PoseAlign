{
 "cells": [
  {
   "cell_type": "code",
   "execution_count": 1,
   "id": "48045967",
   "metadata": {},
   "outputs": [],
   "source": [
    "import argparse\n",
    "import cv2\n",
    "import numpy as np\n",
    "import torch\n",
    "from models.with_mobilenet import PoseEstimationWithMobileNet\n",
    "from modules.keypoints import extract_keypoints, group_keypoints\n",
    "from modules.load_state import load_state\n",
    "from modules.pose import Pose, track_poses\n",
    "from val import normalize, pad_width"
   ]
  },
  {
   "cell_type": "code",
   "execution_count": 2,
   "id": "3fd7fc9f",
   "metadata": {},
   "outputs": [],
   "source": [
    "class ImageReader(object):\n",
    "    def __init__(self, file_names):\n",
    "        self.file_names = file_names\n",
    "        self.max_idx = len(file_names)\n",
    "\n",
    "    def __iter__(self):\n",
    "        self.idx = 0\n",
    "        return self\n",
    "\n",
    "    def __next__(self):\n",
    "        if self.idx == self.max_idx:\n",
    "            raise StopIteration\n",
    "        print(\"ImageReader\",self.file_names[self.idx])\n",
    "        img = cv2.imread(self.file_names,cv2.IMREAD_COLOR)\n",
    "        print(img)\n",
    "        if img.size == 0:\n",
    "            raise IOError('Image {} cannot be read'.format(self.file_names[self.idx]))\n",
    "        self.idx = self.idx + 1\n",
    "        return img"
   ]
  },
  {
   "cell_type": "code",
   "execution_count": 3,
   "id": "b1878cc4",
   "metadata": {},
   "outputs": [],
   "source": [
    "class VideoReader(object):\n",
    "    def __init__(self, file_name):\n",
    "        self.file_name = file_name\n",
    "        try:  # OpenCV needs int to read from webcam\n",
    "            self.file_name = int(file_name)\n",
    "        except ValueError:\n",
    "            pass\n",
    "\n",
    "    def __iter__(self):\n",
    "        self.cap = cv2.VideoCapture(self.file_name)\n",
    "        if not self.cap.isOpened():\n",
    "            raise IOError('Video {} cannot be opened'.format(self.file_name))\n",
    "        return self\n",
    "\n",
    "    def __next__(self):\n",
    "        was_read, img = self.cap.read()\n",
    "        if not was_read:\n",
    "            raise StopIteration\n",
    "        return img"
   ]
  },
  {
   "cell_type": "code",
   "execution_count": 4,
   "id": "3b93f885",
   "metadata": {},
   "outputs": [],
   "source": [
    "def run_demo(net, image_provider, height_size, cpu, track, smooth):\n",
    "    net = net.eval()\n",
    "    if not cpu:\n",
    "        net = net.cuda()\n",
    "\n",
    "    stride = 8\n",
    "    upsample_ratio = 4\n",
    "    num_keypoints = Pose.num_kpts\n",
    "    previous_poses = []\n",
    "    delay = 1\n",
    "    for img in image_provider:\n",
    "        orig_img = img.copy()\n",
    "        heatmaps, pafs, scale, pad = infer_fast(net, img, height_size, stride, upsample_ratio, cpu)\n",
    "\n",
    "        total_keypoints_num = 0\n",
    "        all_keypoints_by_type = []\n",
    "        for kpt_idx in range(num_keypoints):  # 19th for bg\n",
    "            total_keypoints_num += extract_keypoints(heatmaps[:, :, kpt_idx], all_keypoints_by_type, total_keypoints_num)\n",
    "\n",
    "        pose_entries,all_keypoints = group_keypoints(all_keypoints_by_type, pafs)\n",
    "        for kpt_id in range(all_keypoints.shape[0]):\n",
    "            all_keypoints[kpt_id, 0] = (all_keypoints[kpt_id, 0] * stride / upsample_ratio) / scale\n",
    "            all_keypoints[kpt_id, 1] = (all_keypoints[kpt_id, 1] * stride / upsample_ratio) / scale\n",
    "        #for kpt_id in range(all_keypoints.shape[0]):\n",
    "          #  all_keypoints[kpt_id, 0] = (all_keypoints[kpt_id, 0] * stride / upsample_ratio - pad[1]) / scale\n",
    "           # all_keypoints[kpt_id, 1] = (all_keypoints[kpt_id, 1] * stride / upsample_ratio - pad[0]) / scale\n",
    "  \n",
    "        current_poses = []\n",
    "        for n in range(len(pose_entries)):\n",
    "            if len(pose_entries[n]) == 0:\n",
    "                continue\n",
    "            pose_keypoints = np.ones((num_keypoints, 2), dtype=np.int32) * -1\n",
    "            for kpt_id in range(num_keypoints):\n",
    "                if pose_entries[n][kpt_id] != -1.0:  # keypoint was found\n",
    "                    pose_keypoints[kpt_id, 0] = int(all_keypoints[int(pose_entries[n][kpt_id]), 0])\n",
    "                    pose_keypoints[kpt_id, 1] = int(all_keypoints[int(pose_entries[n][kpt_id]), 1])\n",
    "            pose = Pose(pose_keypoints, pose_entries[n][18])\n",
    "            current_poses.append(pose)\n",
    "\n",
    "        if track:\n",
    "            track_poses(previous_poses, current_poses, smooth=smooth)\n",
    "            previous_poses = current_poses\n",
    "        for pose in current_poses:\n",
    "            pose.draw(img)\n",
    "        img = cv2.addWeighted(orig_img, 0.6, img, 0.4, 0)\n",
    "        for pose in current_poses:\n",
    "            cv2.rectangle(img, (pose.bbox[0], pose.bbox[1]),\n",
    "                          (pose.bbox[0] + pose.bbox[2], pose.bbox[1] + pose.bbox[3]), (0, 255, 0))\n",
    "            if track:\n",
    "                cv2.putText(img, 'id: {}'.format(pose.id), (pose.bbox[0], pose.bbox[1] - 16),\n",
    "                            cv2.FONT_HERSHEY_COMPLEX, 0.5, (0, 0, 255))\n",
    "        cv2.imshow('Lightweight Human Pose Estimation Python Demo', img)\n",
    "        key = cv2.waitKey(delay)\n",
    "        if key == 27:  # esc\n",
    "            return\n",
    "        elif key == 112:  # 'p'\n",
    "            if delay == 1:\n",
    "                delay = 0\n",
    "            else:\n",
    "                delay = 1"
   ]
  },
  {
   "cell_type": "code",
   "execution_count": 5,
   "id": "99f58057",
   "metadata": {},
   "outputs": [],
   "source": [
    "def infer_fast(net, img, net_input_height_size, stride, upsample_ratio, cpu,\n",
    "               pad_value=(0, 0, 0), img_mean=np.array([128, 128, 128], np.float32), img_scale=np.float32(1/256)):\n",
    "    height, width, _ = img.shape\n",
    "    scale = net_input_height_size / height\n",
    "\n",
    "    scaled_img = cv2.resize(img, (0, 0), fx=scale, fy=scale, interpolation=cv2.INTER_LINEAR)\n",
    "    scaled_img = normalize(scaled_img, img_mean, img_scale)\n",
    "    min_dims = [net_input_height_size, max(scaled_img.shape[1], net_input_height_size)]\n",
    "    padded_img, pad = pad_width(scaled_img, stride, pad_value, min_dims)\n",
    "\n",
    "    tensor_img = torch.from_numpy(padded_img).permute(2, 0, 1).unsqueeze(0).float()\n",
    "    if not cpu:\n",
    "        tensor_img = tensor_img.cuda()\n",
    "\n",
    "    stages_output = net(tensor_img)\n",
    "\n",
    "    stage2_heatmaps = stages_output[-2]\n",
    "    heatmaps = np.transpose(stage2_heatmaps.squeeze().cpu().data.numpy(), (1, 2, 0))\n",
    "    heatmaps = cv2.resize(heatmaps, (0, 0), fx=upsample_ratio, fy=upsample_ratio, interpolation=cv2.INTER_CUBIC)\n",
    "\n",
    "    stage2_pafs = stages_output[-1]\n",
    "    pafs = np.transpose(stage2_pafs.squeeze().cpu().data.numpy(), (1, 2, 0))\n",
    "    pafs = cv2.resize(pafs, (0, 0), fx=upsample_ratio, fy=upsample_ratio, interpolation=cv2.INTER_CUBIC)\n",
    "\n",
    "    return heatmaps, pafs, scale, pad"
   ]
  },
  {
   "cell_type": "code",
   "execution_count": 15,
   "id": "96524ac4",
   "metadata": {},
   "outputs": [],
   "source": [
    "net = PoseEstimationWithMobileNet()"
   ]
  },
  {
   "cell_type": "code",
   "execution_count": 16,
   "id": "f95b9d91",
   "metadata": {},
   "outputs": [],
   "source": [
    "checkpoint = torch.load(\"models/checkpoint_iter_370000.pth\", map_location='cpu')\n",
    "load_state(net, checkpoint)"
   ]
  },
  {
   "cell_type": "code",
   "execution_count": 17,
   "id": "c034640f",
   "metadata": {},
   "outputs": [],
   "source": [
    "frame_provider = VideoReader(\"0\")"
   ]
  },
  {
   "cell_type": "code",
   "execution_count": 18,
   "id": "4a569fa6",
   "metadata": {},
   "outputs": [],
   "source": [
    "run_demo(net,frame_provider, 256, False, 1, 1)"
   ]
  },
  {
   "cell_type": "code",
   "execution_count": null,
   "id": "e6bad6c3",
   "metadata": {},
   "outputs": [],
   "source": []
  },
  {
   "cell_type": "code",
   "execution_count": null,
   "id": "ab474a45",
   "metadata": {},
   "outputs": [],
   "source": []
  }
 ],
 "metadata": {
  "kernelspec": {
   "display_name": "Python 3 (ipykernel)",
   "language": "python",
   "name": "python3"
  },
  "language_info": {
   "codemirror_mode": {
    "name": "ipython",
    "version": 3
   },
   "file_extension": ".py",
   "mimetype": "text/x-python",
   "name": "python",
   "nbconvert_exporter": "python",
   "pygments_lexer": "ipython3",
   "version": "3.7.11"
  }
 },
 "nbformat": 4,
 "nbformat_minor": 5
}
